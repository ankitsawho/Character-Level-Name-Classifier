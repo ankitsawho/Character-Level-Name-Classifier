{
  "nbformat": 4,
  "nbformat_minor": 0,
  "metadata": {
    "colab": {
      "provenance": []
    },
    "kernelspec": {
      "name": "python3",
      "display_name": "Python 3"
    },
    "language_info": {
      "name": "python"
    }
  },
  "cells": [
    {
      "cell_type": "markdown",
      "source": [
        "# Name Classfication"
      ],
      "metadata": {
        "id": "jTn12L516XOS"
      }
    },
    {
      "cell_type": "markdown",
      "source": [
        "# Preparing the Data"
      ],
      "metadata": {
        "id": "gM2BEdXG6arS"
      }
    },
    {
      "cell_type": "code",
      "execution_count": null,
      "metadata": {
        "id": "SfhcyItt5lRO"
      },
      "outputs": [],
      "source": [
        "from io import open\n",
        "import glob\n",
        "import os"
      ]
    },
    {
      "cell_type": "code",
      "source": [
        "def findFiles(path):\n",
        "  return glob.glob(path)"
      ],
      "metadata": {
        "id": "Tg_E_pdR-Iig"
      },
      "execution_count": null,
      "outputs": []
    },
    {
      "cell_type": "code",
      "source": [
        "for f in findFiles('./data/*.txt'):\n",
        "  print(f)"
      ],
      "metadata": {
        "colab": {
          "base_uri": "https://localhost:8080/"
        },
        "id": "gEVDPwu0-QMt",
        "outputId": "b7ce9eb1-0ac5-4ebf-9fa9-dcef4d7d80b4"
      },
      "execution_count": null,
      "outputs": [
        {
          "output_type": "stream",
          "name": "stdout",
          "text": [
            "./data/Japanese.txt\n",
            "./data/Portuguese.txt\n",
            "./data/English.txt\n",
            "./data/Chinese.txt\n",
            "./data/Dutch.txt\n",
            "./data/Polish.txt\n",
            "./data/Spanish.txt\n",
            "./data/Czech.txt\n",
            "./data/Arabic.txt\n",
            "./data/Russian.txt\n",
            "./data/French.txt\n",
            "./data/Vietnamese.txt\n",
            "./data/German.txt\n",
            "./data/Irish.txt\n",
            "./data/Greek.txt\n",
            "./data/Korean.txt\n",
            "./data/Italian.txt\n",
            "./data/Scottish.txt\n"
          ]
        }
      ]
    },
    {
      "cell_type": "code",
      "source": [
        "import unicodedata\n",
        "import string"
      ],
      "metadata": {
        "id": "zn3IqFAx-Xbo"
      },
      "execution_count": null,
      "outputs": []
    },
    {
      "cell_type": "code",
      "source": [
        "all_letters = string.ascii_letters + \".,;'\"\n",
        "print(all_letters)\n",
        "n_letters = len(all_letters)"
      ],
      "metadata": {
        "colab": {
          "base_uri": "https://localhost:8080/"
        },
        "id": "_kPzK5rk-jSZ",
        "outputId": "8b6b3277-76fd-4bce-eb87-12d60ed01a76"
      },
      "execution_count": null,
      "outputs": [
        {
          "output_type": "stream",
          "name": "stdout",
          "text": [
            "abcdefghijklmnopqrstuvwxyzABCDEFGHIJKLMNOPQRSTUVWXYZ.,;'\n"
          ]
        }
      ]
    },
    {
      "cell_type": "code",
      "source": [
        "# Turn a unicode string to plain ASCII\n",
        "def unicodeToAscii(s):\n",
        "  return ''.join(\n",
        "      c for c in unicodedata.normalize('NFD', s)\n",
        "        if unicodedata.category(c) != 'Mn'\n",
        "        and c in all_letters\n",
        "  )"
      ],
      "metadata": {
        "id": "zrk782Mn-q-l"
      },
      "execution_count": null,
      "outputs": []
    },
    {
      "cell_type": "code",
      "source": [
        "print(unicodeToAscii('Ślusàrski'))"
      ],
      "metadata": {
        "colab": {
          "base_uri": "https://localhost:8080/"
        },
        "id": "OfWHvqUR_Hui",
        "outputId": "5c2696cb-2cde-45cb-e2f2-5dc2ff646d65"
      },
      "execution_count": null,
      "outputs": [
        {
          "output_type": "stream",
          "name": "stdout",
          "text": [
            "Slusarski\n"
          ]
        }
      ]
    },
    {
      "cell_type": "code",
      "source": [
        "# Build the category_lines dictionary, a list of names per language\n",
        "category_lines = {}\n",
        "all_categories = []"
      ],
      "metadata": {
        "id": "-dH0DAT0_N5p"
      },
      "execution_count": null,
      "outputs": []
    },
    {
      "cell_type": "code",
      "source": [
        "def readLines(filename):\n",
        "  lines = open(filename, encoding='utf-8').read().strip().split('\\n')\n",
        "  return [unicodeToAscii(line) for line in lines]"
      ],
      "metadata": {
        "id": "x-Sf9C0Z_hwd"
      },
      "execution_count": null,
      "outputs": []
    },
    {
      "cell_type": "code",
      "source": [
        "for filename in findFiles('./data/*.txt'):\n",
        "  category = os.path.splitext(os.path.basename(filename))[0]\n",
        "  all_categories.append(category)\n",
        "  lines = readLines(filename)\n",
        "  category_lines[category] = lines"
      ],
      "metadata": {
        "id": "nUuG5EAP_6bw"
      },
      "execution_count": null,
      "outputs": []
    },
    {
      "cell_type": "code",
      "source": [
        "n_categories = len(all_categories)\n",
        "n_categories"
      ],
      "metadata": {
        "colab": {
          "base_uri": "https://localhost:8080/"
        },
        "id": "7cSJA2pKARFE",
        "outputId": "43426b9f-c90a-4061-9af6-ecae843f8548"
      },
      "execution_count": null,
      "outputs": [
        {
          "output_type": "execute_result",
          "data": {
            "text/plain": [
              "18"
            ]
          },
          "metadata": {},
          "execution_count": 19
        }
      ]
    },
    {
      "cell_type": "markdown",
      "source": [
        "# Turning Names into Tensors"
      ],
      "metadata": {
        "id": "gOWZURcyCfca"
      }
    },
    {
      "cell_type": "code",
      "source": [
        "import torch"
      ],
      "metadata": {
        "id": "ThcpGtizCHUx"
      },
      "execution_count": null,
      "outputs": []
    },
    {
      "cell_type": "markdown",
      "source": [
        "extra 1 dimension is because PyTorch assumes everything is in <br>\n",
        "*batches torch.zeros(1, n_letter)*"
      ],
      "metadata": {
        "id": "wROz7sqOEPuS"
      }
    },
    {
      "cell_type": "code",
      "source": [
        "def letterToIndex(letter):\n",
        "  return all_letters.find(letter)\n",
        "\n",
        "def letterToTensor(letter):\n",
        "  tensor = torch.zeros(1, n_letters)\n",
        "  tensor[0][letterToIndex(letter)] = 1\n",
        "  return tensor\n",
        "\n",
        "\n",
        "def lineToTensor(line):\n",
        "  tensor = torch.zeros(len(line), 1, n_letters)\n",
        "  for li, letter in enumerate(line):\n",
        "    tensor[li][0][letterToIndex(letter)] = 1\n",
        "  return tensor"
      ],
      "metadata": {
        "id": "pJvNhRPLCi6R"
      },
      "execution_count": null,
      "outputs": []
    },
    {
      "cell_type": "code",
      "source": [
        "lineToTensor('Ankit')"
      ],
      "metadata": {
        "colab": {
          "base_uri": "https://localhost:8080/"
        },
        "id": "9-n_Q_gbElBg",
        "outputId": "60ca8e75-24d8-4e7b-d929-80d7436599a3"
      },
      "execution_count": null,
      "outputs": [
        {
          "output_type": "execute_result",
          "data": {
            "text/plain": [
              "tensor([[[0., 0., 0., 0., 0., 0., 0., 0., 0., 0., 0., 0., 0., 0., 0., 0., 0.,\n",
              "          0., 0., 0., 0., 0., 0., 0., 0., 0., 1., 0., 0., 0., 0., 0., 0., 0.,\n",
              "          0., 0., 0., 0., 0., 0., 0., 0., 0., 0., 0., 0., 0., 0., 0., 0., 0.,\n",
              "          0., 0., 0., 0., 0.]],\n",
              "\n",
              "        [[0., 0., 0., 0., 0., 0., 0., 0., 0., 0., 0., 0., 0., 1., 0., 0., 0.,\n",
              "          0., 0., 0., 0., 0., 0., 0., 0., 0., 0., 0., 0., 0., 0., 0., 0., 0.,\n",
              "          0., 0., 0., 0., 0., 0., 0., 0., 0., 0., 0., 0., 0., 0., 0., 0., 0.,\n",
              "          0., 0., 0., 0., 0.]],\n",
              "\n",
              "        [[0., 0., 0., 0., 0., 0., 0., 0., 0., 0., 1., 0., 0., 0., 0., 0., 0.,\n",
              "          0., 0., 0., 0., 0., 0., 0., 0., 0., 0., 0., 0., 0., 0., 0., 0., 0.,\n",
              "          0., 0., 0., 0., 0., 0., 0., 0., 0., 0., 0., 0., 0., 0., 0., 0., 0.,\n",
              "          0., 0., 0., 0., 0.]],\n",
              "\n",
              "        [[0., 0., 0., 0., 0., 0., 0., 0., 1., 0., 0., 0., 0., 0., 0., 0., 0.,\n",
              "          0., 0., 0., 0., 0., 0., 0., 0., 0., 0., 0., 0., 0., 0., 0., 0., 0.,\n",
              "          0., 0., 0., 0., 0., 0., 0., 0., 0., 0., 0., 0., 0., 0., 0., 0., 0.,\n",
              "          0., 0., 0., 0., 0.]],\n",
              "\n",
              "        [[0., 0., 0., 0., 0., 0., 0., 0., 0., 0., 0., 0., 0., 0., 0., 0., 0.,\n",
              "          0., 0., 1., 0., 0., 0., 0., 0., 0., 0., 0., 0., 0., 0., 0., 0., 0.,\n",
              "          0., 0., 0., 0., 0., 0., 0., 0., 0., 0., 0., 0., 0., 0., 0., 0., 0.,\n",
              "          0., 0., 0., 0., 0.]]])"
            ]
          },
          "metadata": {},
          "execution_count": 38
        }
      ]
    },
    {
      "cell_type": "markdown",
      "source": [
        "# Creating the Network"
      ],
      "metadata": {
        "id": "qVvDm2pYNsZl"
      }
    },
    {
      "cell_type": "code",
      "source": [
        "import torch.nn as nn\n",
        "\n",
        "class RNN(nn.Module):\n",
        "  def __init__(self, input_size, hidden_size, output_size):\n",
        "    super(RNN, self).__init__()\n",
        "    self.hidden_size = hidden_size\n",
        "    self.i2h = nn.Linear(input_size+hidden_size, hidden_size)\n",
        "    self.h2o = nn.Linear(hidden_size, output_size)\n",
        "    self.softmax = nn.LogSoftmax(dim=1)\n",
        "\n",
        "  def forward(self, input_tensor, hidden_tensor):\n",
        "    combined = torch.cat((input_tensor, hidden_tensor), 1)\n",
        "    hidden_tensor = self.i2h(combined)\n",
        "    output = self.h2o(hidden_tensor)\n",
        "    output = self.softmax(output)\n",
        "    return output, hidden_tensor\n",
        "\n",
        "  def initHidden(self):\n",
        "    return torch.zeros(1, self.hidden_size)"
      ],
      "metadata": {
        "id": "ZduHB_53FYeI"
      },
      "execution_count": null,
      "outputs": []
    },
    {
      "cell_type": "code",
      "source": [
        "n_hidden = 128\n",
        "rnn = RNN(n_letters, n_hidden, n_categories)"
      ],
      "metadata": {
        "id": "F4B-4CNQMRdf"
      },
      "execution_count": null,
      "outputs": []
    },
    {
      "cell_type": "code",
      "source": [
        "input_tensor = lineToTensor('Albert')\n",
        "hidden = torch.zeros(1, n_hidden)\n",
        "output, next_hidden = rnn(input_tensor[0], hidden)\n",
        "print(output)"
      ],
      "metadata": {
        "colab": {
          "base_uri": "https://localhost:8080/"
        },
        "id": "TuwFvTQ7MYcZ",
        "outputId": "0927417f-85f4-4905-8cec-9600c9eaabda"
      },
      "execution_count": null,
      "outputs": [
        {
          "output_type": "stream",
          "name": "stdout",
          "text": [
            "tensor([[-2.8955, -2.9640, -2.9978, -2.8199, -2.8283, -2.7744, -2.8051, -2.9084,\n",
            "         -2.9709, -2.8932, -2.9472, -2.8904, -2.8775, -2.9323, -2.9041, -2.9133,\n",
            "         -2.8390, -2.8966]], grad_fn=<LogSoftmaxBackward0>)\n"
          ]
        }
      ]
    },
    {
      "cell_type": "code",
      "source": [
        "output.topk(1)"
      ],
      "metadata": {
        "colab": {
          "base_uri": "https://localhost:8080/"
        },
        "id": "DSDReA9WOXYl",
        "outputId": "0e0cecb4-fd8a-4606-f521-c3fe0dca4a8a"
      },
      "execution_count": null,
      "outputs": [
        {
          "output_type": "execute_result",
          "data": {
            "text/plain": [
              "torch.return_types.topk(\n",
              "values=tensor([[-2.7744]], grad_fn=<TopkBackward0>),\n",
              "indices=tensor([[5]]))"
            ]
          },
          "metadata": {},
          "execution_count": 49
        }
      ]
    },
    {
      "cell_type": "code",
      "source": [
        "def categoryFromOutput(output):\n",
        "  top_n, top_i = output.topk(1)\n",
        "  category_i = top_i[0].item()\n",
        "  return all_categories[category_i], category_i\n",
        "\n",
        "print(categoryFromOutput(output))"
      ],
      "metadata": {
        "colab": {
          "base_uri": "https://localhost:8080/"
        },
        "id": "qJhyqK40NhUM",
        "outputId": "bfa50554-f9d7-469b-8422-94e97ccd7230"
      },
      "execution_count": null,
      "outputs": [
        {
          "output_type": "stream",
          "name": "stdout",
          "text": [
            "('Polish', 5)\n"
          ]
        }
      ]
    },
    {
      "cell_type": "markdown",
      "source": [
        "# Training"
      ],
      "metadata": {
        "id": "rZIzD_p-N-gV"
      }
    },
    {
      "cell_type": "code",
      "source": [
        "criterion = nn.NLLLoss()"
      ],
      "metadata": {
        "id": "OTaIVy8ROD33"
      },
      "execution_count": null,
      "outputs": []
    },
    {
      "cell_type": "code",
      "source": [
        "learning_rate = 0.005\n",
        "\n",
        "def train(category_tensor, line_tensor):\n",
        "  hidden = rnn.initHidden()\n",
        "\n",
        "  rnn.zero_grad()\n",
        "\n",
        "  for i in range(line_tensor.size()[0]):\n",
        "    output, hidden = rnn(line_tensor[i], hidden)\n",
        "\n",
        "  loss = criterion(output, category_tensor)\n",
        "  loss.backward()\n",
        "\n",
        "  for p in rnn.parameters():\n",
        "    p.data.add_(p.grad.data, alpha=-learning_rate)\n",
        "\n",
        "  return output, loss.item()"
      ],
      "metadata": {
        "id": "VNn2lYjBO-ys"
      },
      "execution_count": null,
      "outputs": []
    },
    {
      "cell_type": "code",
      "source": [
        "import random\n",
        "\n",
        "def randomChoice(l):\n",
        "    return l[random.randint(0, len(l) - 1)]\n",
        "\n",
        "def randomTrainingExample():\n",
        "    category = randomChoice(all_categories)\n",
        "    line = randomChoice(category_lines[category])\n",
        "    category_tensor = torch.tensor([all_categories.index(category)], dtype=torch.long)\n",
        "    line_tensor = lineToTensor(line)\n",
        "    return category, line, category_tensor, line_tensor\n",
        "\n",
        "for i in range(10):\n",
        "    category, line, category_tensor, line_tensor = randomTrainingExample()\n",
        "    print('category =', category, '/ line =', line)"
      ],
      "metadata": {
        "colab": {
          "base_uri": "https://localhost:8080/"
        },
        "id": "pvSRZAAfQl1B",
        "outputId": "b5d1079a-dedc-4129-ce9c-701f4f4c12ad"
      },
      "execution_count": null,
      "outputs": [
        {
          "output_type": "stream",
          "name": "stdout",
          "text": [
            "category = Dutch / line = Hautum\n",
            "category = Vietnamese / line = Ly\n",
            "category = Italian / line = Basso\n",
            "category = French / line = Royer\n",
            "category = Italian / line = Abatantuono\n",
            "category = Spanish / line = Sepulveda\n",
            "category = French / line = Lyon\n",
            "category = Spanish / line = Delgado\n",
            "category = Irish / line = O'Donnell\n",
            "category = Portuguese / line = Machado\n"
          ]
        }
      ]
    },
    {
      "cell_type": "code",
      "source": [
        "import time\n",
        "import math\n",
        "\n",
        "n_iters = 100000\n",
        "print_every = 5000\n",
        "plot_every = 1000\n",
        "\n",
        "\n",
        "\n",
        "# Keep track of losses for plotting\n",
        "current_loss = 0\n",
        "all_losses = []\n",
        "\n",
        "def timeSince(since):\n",
        "    now = time.time()\n",
        "    s = now - since\n",
        "    m = math.floor(s / 60)\n",
        "    s -= m * 60\n",
        "    return '%dm %ds' % (m, s)\n",
        "\n",
        "start = time.time()\n",
        "\n",
        "for iter in range(1, n_iters + 1):\n",
        "    category, line, category_tensor, line_tensor = randomTrainingExample()\n",
        "    output, loss = train(category_tensor, line_tensor)\n",
        "    current_loss += loss\n",
        "\n",
        "    # Print ``iter`` number, loss, name and guess\n",
        "    if iter % print_every == 0:\n",
        "        guess, guess_i = categoryFromOutput(output)\n",
        "        correct = '✓' if guess == category else '✗ (%s)' % category\n",
        "        print('%d %d%% (%s) %.4f %s / %s %s' % (iter, iter / n_iters * 100, timeSince(start), loss, line, guess, correct))\n",
        "\n",
        "    # Add current loss avg to list of losses\n",
        "    if iter % plot_every == 0:\n",
        "        all_losses.append(current_loss / plot_every)\n",
        "        current_loss = 0"
      ],
      "metadata": {
        "colab": {
          "base_uri": "https://localhost:8080/"
        },
        "id": "fs7p6AreP9ws",
        "outputId": "8793c7d9-0307-48a3-e6cb-5fe10c36e5a8"
      },
      "execution_count": null,
      "outputs": [
        {
          "output_type": "stream",
          "name": "stdout",
          "text": [
            "5000 5% (0m 6s) 2.9609 Niftrik / Polish ✗ (Dutch)\n",
            "10000 10% (0m 12s) 1.8496 Ieyasu / Japanese ✓\n",
            "15000 15% (0m 19s) 2.3694 Watt / German ✗ (Scottish)\n",
            "20000 20% (0m 25s) 0.3932 Jon / Korean ✓\n",
            "25000 25% (0m 31s) 2.3433 Boyle / English ✗ (Scottish)\n",
            "30000 30% (0m 38s) 0.0703 Wawrzaszek / Polish ✓\n",
            "35000 35% (0m 44s) 0.3160 Quang / Vietnamese ✓\n",
            "40000 40% (0m 50s) 1.7902 Franco / Italian ✗ (Portuguese)\n",
            "45000 45% (0m 56s) 2.4281 Kava / Czech ✗ (Polish)\n",
            "50000 50% (1m 3s) 0.3180 Vasquez / Spanish ✓\n",
            "55000 55% (1m 9s) 3.9196 Reyes / Dutch ✗ (Spanish)\n",
            "60000 60% (1m 15s) 0.0950 Darkshevich / Russian ✓\n",
            "65000 65% (1m 21s) 2.3469 Salazar / Arabic ✗ (Portuguese)\n",
            "70000 70% (1m 27s) 0.1800 Kozlow / Polish ✓\n",
            "75000 75% (1m 33s) 0.7554 Seok / Korean ✓\n",
            "80000 80% (1m 40s) 3.0424 Gouveia / Spanish ✗ (Portuguese)\n",
            "85000 85% (1m 46s) 0.3580 Ortega / Spanish ✓\n",
            "90000 90% (1m 53s) 2.1802 Giersig / Scottish ✗ (Czech)\n",
            "95000 95% (1m 59s) 0.8388 Tadhgan / Irish ✓\n",
            "100000 100% (2m 5s) 0.0931 Vuong / Vietnamese ✓\n"
          ]
        }
      ]
    },
    {
      "cell_type": "code",
      "source": [
        "import matplotlib.pyplot as plt\n",
        "import matplotlib.ticker as ticker\n",
        "\n",
        "plt.figure()\n",
        "plt.plot(all_losses)"
      ],
      "metadata": {
        "colab": {
          "base_uri": "https://localhost:8080/",
          "height": 448
        },
        "id": "61WXQLH2QhTA",
        "outputId": "779a58dd-4576-471b-f9a9-ad7321f9b9bf"
      },
      "execution_count": null,
      "outputs": [
        {
          "output_type": "execute_result",
          "data": {
            "text/plain": [
              "[<matplotlib.lines.Line2D at 0x7fe41c55d8d0>]"
            ]
          },
          "metadata": {},
          "execution_count": 56
        },
        {
          "output_type": "display_data",
          "data": {
            "text/plain": [
              "<Figure size 640x480 with 1 Axes>"
            ],
            "image/png": "[encoded data removed]"
          },
          "metadata": {}
        }
      ]
    },
    {
      "cell_type": "markdown",
      "source": [
        "# Evaluation"
      ],
      "metadata": {
        "id": "dzrYDrPUQ5de"
      }
    },
    {
      "cell_type": "code",
      "source": [
        "confusion = torch.zeros(n_categories, n_categories)\n",
        "n_confusion = 10000\n",
        "\n",
        "def evaluate(line_tensor):\n",
        "    hidden = rnn.initHidden()\n",
        "\n",
        "    for i in range(line_tensor.size()[0]):\n",
        "        output, hidden = rnn(line_tensor[i], hidden)\n",
        "\n",
        "    return output\n",
        "\n",
        "for i in range(n_confusion):\n",
        "    category, line, category_tensor, line_tensor = randomTrainingExample()\n",
        "    output = evaluate(line_tensor)\n",
        "    guess, guess_i = categoryFromOutput(output)\n",
        "    category_i = all_categories.index(category)\n",
        "    confusion[category_i][guess_i] += 1\n",
        "\n",
        "for i in range(n_categories):\n",
        "    confusion[i] = confusion[i] / confusion[i].sum()\n",
        "\n",
        "fig = plt.figure()\n",
        "ax = fig.add_subplot(111)\n",
        "cax = ax.matshow(confusion.numpy())\n",
        "fig.colorbar(cax)\n",
        "\n",
        "ax.set_xticklabels([''] + all_categories, rotation=90)\n",
        "ax.set_yticklabels([''] + all_categories)\n",
        "\n",
        "ax.xaxis.set_major_locator(ticker.MultipleLocator(1))\n",
        "ax.yaxis.set_major_locator(ticker.MultipleLocator(1))\n",
        "\n",
        "plt.show()"
      ],
      "metadata": {
        "colab": {
          "base_uri": "https://localhost:8080/",
          "height": 597
        },
        "id": "5CR5ze8hQ3FX",
        "outputId": "dcb401b0-ce60-45d8-c502-d6b65194a826"
      },
      "execution_count": null,
      "outputs": [
        {
          "output_type": "stream",
          "name": "stderr",
          "text": [
            "<ipython-input-57-ad3198427f7e>:27: UserWarning: FixedFormatter should only be used together with FixedLocator\n",
            "  ax.set_xticklabels([''] + all_categories, rotation=90)\n",
            "<ipython-input-57-ad3198427f7e>:28: UserWarning: FixedFormatter should only be used together with FixedLocator\n",
            "  ax.set_yticklabels([''] + all_categories)\n"
          ]
        },
        {
          "output_type": "display_data",
          "data": {
            "text/plain": [
              "<Figure size 640x480 with 2 Axes>"
            ],
            "image/png": "[encoded data removed]"
          },
          "metadata": {}
        }
      ]
    },
    {
      "cell_type": "code",
      "source": [
        "def predict(input_line, n_predictions=3):\n",
        "    print('\\n> %s' % input_line)\n",
        "    with torch.no_grad():\n",
        "        output = evaluate(lineToTensor(input_line))\n",
        "\n",
        "        topv, topi = output.topk(n_predictions, 1, True)\n",
        "        predictions = []\n",
        "\n",
        "        for i in range(n_predictions):\n",
        "            value = topv[0][i].item()\n",
        "            category_index = topi[0][i].item()\n",
        "            print('(%.2f) %s' % (value, all_categories[category_index]))\n",
        "            predictions.append([value, all_categories[category_index]])"
      ],
      "metadata": {
        "id": "UbOg0qhIRBD2"
      },
      "execution_count": null,
      "outputs": []
    },
    {
      "cell_type": "code",
      "source": [
        "predict('Karen')"
      ],
      "metadata": {
        "colab": {
          "base_uri": "https://localhost:8080/"
        },
        "id": "IYaoCmiIRNfG",
        "outputId": "ae98284f-529c-4b5b-fd43-f3814506d21e"
      },
      "execution_count": null,
      "outputs": [
        {
          "output_type": "stream",
          "name": "stdout",
          "text": [
            "\n",
            "> Karen\n",
            "(-0.38) Dutch\n",
            "(-1.97) German\n",
            "(-2.99) French\n"
          ]
        }
      ]
    },
    {
      "cell_type": "code",
      "source": [],
      "metadata": {
        "id": "epaXQjMjRR7c"
      },
      "execution_count": null,
      "outputs": []
    }
  ]
}